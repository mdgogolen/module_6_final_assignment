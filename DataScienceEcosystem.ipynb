{
 "cells": [
  {
   "cell_type": "markdown",
   "id": "6d9e69c6-b449-48b3-a658-85d55fc060fc",
   "metadata": {
    "editable": true,
    "slideshow": {
     "slide_type": ""
    },
    "tags": []
   },
   "source": [
    "# Data Science Tools and Ecosystem"
   ]
  },
  {
   "cell_type": "markdown",
   "id": "a21ad06b-a423-4da0-9386-ca270786e3d4",
   "metadata": {},
   "source": [
    "## Author\n",
    "Michael Gogolen"
   ]
  },
  {
   "cell_type": "markdown",
   "id": "758d996d-f328-4f3c-b726-beee030b8405",
   "metadata": {},
   "source": [
    "In this notebook, Data Science Tools and Ecosytems are summarized."
   ]
  },
  {
   "cell_type": "markdown",
   "id": "cb4bafd5-d807-43b3-8def-176ff2ac4e9f",
   "metadata": {},
   "source": [
    "__Objectives:__\n",
    "* List popular languages for data science\n",
    "* List commonly used libraries in data science\n",
    "* List commonly used tools in data science\n",
    "* Provide examples of arithmetic evaluations in Python"
   ]
  },
  {
   "cell_type": "markdown",
   "id": "c35bd65c-e745-47ef-97ed-6ff880f64414",
   "metadata": {},
   "source": [
    "Some of the popular languages that Data Scientists use are:\n",
    "1. Python\n",
    "2. R\n",
    "3. Julia"
   ]
  },
  {
   "cell_type": "markdown",
   "id": "c2ba696d-91ec-4dac-bd1a-383f96793068",
   "metadata": {},
   "source": [
    "Some of the commonly used libraries used by Data Scientists include:\n",
    "1. Pandas\n",
    "2. NumPy\n",
    "3. matplotlib"
   ]
  },
  {
   "cell_type": "markdown",
   "id": "a504f0a0-4b50-4a61-a24d-022ed4f61473",
   "metadata": {},
   "source": [
    "|Data Science Tools |\n",
    "|:---- |\n",
    "|Jupyter |\n",
    "|RStudio |\n",
    "|Microsoft Visual Studio |"
   ]
  },
  {
   "cell_type": "markdown",
   "id": "41a777bc-da2d-4f49-94cc-d2fcc0e6aac0",
   "metadata": {},
   "source": [
    "### Below are a few examples of evaluating arithmetic expressions in Python"
   ]
  },
  {
   "cell_type": "code",
   "execution_count": 3,
   "id": "77793d99-7d84-405c-ae6e-6165947b74ab",
   "metadata": {},
   "outputs": [
    {
     "data": {
      "text/plain": [
       "17"
      ]
     },
     "execution_count": 3,
     "metadata": {},
     "output_type": "execute_result"
    }
   ],
   "source": [
    "# This a simple arithmetic expression to mutiply then add integers\n",
    "(3*4)+5"
   ]
  },
  {
   "cell_type": "code",
   "execution_count": 4,
   "id": "520d3360-12f4-4630-ac8b-0c78644806cf",
   "metadata": {},
   "outputs": [
    {
     "data": {
      "text/plain": [
       "3.3333333333333335"
      ]
     },
     "execution_count": 4,
     "metadata": {},
     "output_type": "execute_result"
    }
   ],
   "source": [
    "# This will convert 200 minutes to hours by diving by 60\n",
    "200/60"
   ]
  }
 ],
 "metadata": {
  "kernelspec": {
   "display_name": "Python 3 (ipykernel)",
   "language": "python",
   "name": "python3"
  },
  "language_info": {
   "codemirror_mode": {
    "name": "ipython",
    "version": 3
   },
   "file_extension": ".py",
   "mimetype": "text/x-python",
   "name": "python",
   "nbconvert_exporter": "python",
   "pygments_lexer": "ipython3",
   "version": "3.13.5"
  }
 },
 "nbformat": 4,
 "nbformat_minor": 5
}
